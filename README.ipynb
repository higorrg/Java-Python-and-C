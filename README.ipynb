{
 "cells": [
  {
   "cell_type": "markdown",
   "metadata": {},
   "source": [
    "# Java, Python and C\n",
    "\n",
    "PoC from the article: A Performance Comparison Between C, Java, and Python.\n",
    "\n",
    "[Link for the article](https://medium.com/swlh/a-performance-comparison-between-c-java-and-python-df3890545f6d)"
   ]
  },
  {
   "cell_type": "code",
   "execution_count": 1,
   "metadata": {},
   "outputs": [],
   "source": [
    "import subprocess"
   ]
  },
  {
   "cell_type": "markdown",
   "metadata": {},
   "source": [
    "## Build and run Java (OpenJ9 JDK 11)"
   ]
  },
  {
   "cell_type": "code",
   "execution_count": 11,
   "metadata": {},
   "outputs": [
    {
     "ename": "SyntaxError",
     "evalue": "invalid syntax (782928903.py, line 3)",
     "output_type": "error",
     "traceback": [
      "\u001b[0;36m  Cell \u001b[0;32mIn [11], line 3\u001b[0;36m\u001b[0m\n\u001b[0;31m    cd java\u001b[0m\n\u001b[0m       ^\u001b[0m\n\u001b[0;31mSyntaxError\u001b[0m\u001b[0;31m:\u001b[0m invalid syntax\n"
     ]
    }
   ],
   "source": [
    "#!/bin/bash\n",
    "\n",
    "cd java\n",
    "\n",
    "#subprocess.run([\"cd\", \"java\"])\n",
    "#subprocess.run([\"javac\", \"-version\"])\n",
    "#subprocess.run([\"java\", \"--version\"])\n",
    "#subprocess.run([\"javac\", \"java/MatrixMultiplication.java\"])\n",
    "#subprocess.run([\"java\", \"java/MatrixMultiplication\"])"
   ]
  },
  {
   "cell_type": "markdown",
   "metadata": {},
   "source": [
    "## Build and run C"
   ]
  },
  {
   "cell_type": "code",
   "execution_count": 4,
   "metadata": {},
   "outputs": [
    {
     "name": "stdout",
     "output_type": "stream",
     "text": [
      "Elapsed time in seconds: 47.867892 \n"
     ]
    },
    {
     "data": {
      "text/plain": [
       "CompletedProcess(args=['c/MatrixMultiplication'], returncode=0)"
      ]
     },
     "execution_count": 4,
     "metadata": {},
     "output_type": "execute_result"
    }
   ],
   "source": [
    "subprocess.run([\"gcc\", \"-O2\", \"c/MatrixMultiplication.c\", \"-o\", \"MatrixMultiplication\"])\n",
    "subprocess.run([\"gcc\", \"-O3\", \"c/MatrixMultiplication.c\", \"-o\", \"c/MatrixMultiplication\"])\n",
    "subprocess.run([\"c/MatrixMultiplication\"])"
   ]
  },
  {
   "cell_type": "markdown",
   "metadata": {},
   "source": [
    "## Build and run Python 3.10"
   ]
  },
  {
   "cell_type": "code",
   "execution_count": 12,
   "metadata": {},
   "outputs": [
    {
     "name": "stdout",
     "output_type": "stream",
     "text": [
      "Start\n"
     ]
    },
    {
     "data": {
      "text/plain": [
       "CompletedProcess(args=['python', 'python/MatrixMultiplication.py'], returncode=-9)"
      ]
     },
     "execution_count": 12,
     "metadata": {},
     "output_type": "execute_result"
    }
   ],
   "source": [
    "subprocess.run([\"python\", \"python/MatrixMultiplication.py\"])"
   ]
  }
 ],
 "metadata": {
  "kernelspec": {
   "display_name": "Python 3 (ipykernel)",
   "language": "python",
   "name": "python3"
  },
  "language_info": {
   "codemirror_mode": {
    "name": "ipython",
    "version": 3
   },
   "file_extension": ".py",
   "mimetype": "text/x-python",
   "name": "python",
   "nbconvert_exporter": "python",
   "pygments_lexer": "ipython3",
   "version": "3.10.4"
  },
  "vscode": {
   "interpreter": {
    "hash": "31f2aee4e71d21fbe5cf8b01ff0e069b9275f58929596ceb00d14d90e3e16cd6"
   }
  }
 },
 "nbformat": 4,
 "nbformat_minor": 4
}
